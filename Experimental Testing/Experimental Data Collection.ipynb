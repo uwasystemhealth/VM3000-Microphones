{
 "cells": [
  {
   "cell_type": "markdown",
   "metadata": {},
   "source": [
    " ## <b>Connecting vxi11 compatible devices via Ethernet </b>"
   ]
  },
  {
   "cell_type": "code",
   "execution_count": null,
   "metadata": {},
   "outputs": [],
   "source": [
    "import vxi11\n",
    "import time"
   ]
  },
  {
   "cell_type": "code",
   "execution_count": null,
   "metadata": {},
   "outputs": [],
   "source": [
    "keysight_ip = '192.168.0.8'"
   ]
  },
  {
   "cell_type": "code",
   "execution_count": null,
   "metadata": {},
   "outputs": [],
   "source": [
    "Keysight = vxi11.Instrument(keysight_ip)\n",
    "print(Keysight.ask(\"*IDN?\"))"
   ]
  },
  {
   "cell_type": "markdown",
   "metadata": {},
   "source": [
    "## <b> Connecting via USB </b>"
   ]
  },
  {
   "cell_type": "code",
   "execution_count": null,
   "metadata": {},
   "outputs": [],
   "source": [
    "!pip install pyvisa"
   ]
  },
  {
   "cell_type": "code",
   "execution_count": null,
   "metadata": {},
   "outputs": [],
   "source": [
    "!lsusb"
   ]
  },
  {
   "cell_type": "code",
   "execution_count": null,
   "metadata": {},
   "outputs": [],
   "source": [
    "import pyvisa\n",
    "rm = pyvisa.ResourceManager()\n",
    "\n",
    "print(rm.list_resources())\n",
    "\n",
    "Keysight = rm.open_resource(rm.list_resources()[0])\n",
    "print(Keysight.query(\"*IDN?\"))"
   ]
  },
  {
   "cell_type": "markdown",
   "metadata": {},
   "source": [
    "## <b> Python Wrapper for Keysight 33500B - Modified from Carlin's code</b>"
   ]
  },
  {
   "cell_type": "code",
   "execution_count": null,
   "metadata": {},
   "outputs": [],
   "source": [
    "class keysight():\n",
    "    \n",
    "# Uncomment the __init__ function below when using ethernet, comment when using USB    \n",
    "    \n",
    "#     def __init__(self,instrument_ID=keysight_ip):\n",
    "#         self.Keysight = vxi11.Instrument(instrument_ID)\n",
    "#         print(self.Keysight.ask(\"*IDN?\"))\n",
    "        \n",
    "# Uncomment the __init__function below when using USB, comment when using ethernet\n",
    "    def __init__(self): #\n",
    "        self.Keysight = Keysight\n",
    "        print(self.Keysight.query(\"*IDN?\"))\n",
    "        \n",
    "    def enable(self):\n",
    "        self.Keysight.write(\"OUTPut ON\")\n",
    "        \n",
    "    def disable(self):\n",
    "        self.Keysight.write(\"OUTPut OFF\") \n",
    "        \n",
    "    def enable_high_impedance(self):\n",
    "        self.Keysight.write(\"OUTPut:LOAD INF\")  \n",
    "        \n",
    "    def sine(self,frequency=500,amplitude=0.01,offset=0):\n",
    "        self.Keysight.write(f\"VOLTage:OFFSet {offset}\")\n",
    "        self.Keysight.write(\"VOLTage:UNIT VRMS\")\n",
    "        self.Keysight.write(f\"VOLTage {amplitude}\")\n",
    "        self.Keysight.write(\"FUNCtion SINusoid\")\n",
    "        self.Keysight.write(f\"FREQuency {frequency}\")\n",
    "        \n",
    "    def enable_sweep(self, mode=\"linear\", runTime=10):\n",
    "        self.Keysight.write(\"FUNCtion SINusoid\")\n",
    "        self.Keysight.write(\"SWEep:STATe ON\")\n",
    "        self.Keysight.write(f\"SWEep:SPAcing {mode}\")\n",
    "        self.Keysight.write(f\"SWEep:TIME {runTime}\")\n",
    "        self.Keysight.write(f\"FREQuency:STARt {500}\")\n",
    "        self.Keysight.write(f\"FREQuency:STOP {3000}\")\n",
    "        self.Keysight.write(\"OUTPut ON\")\n",
    "        \n",
    "    def disable_sweep(self):\n",
    "        self.Keysight.write(\"SWEep:STATe OFF\")\n",
    "        self.Keysight.write(\"OUTPut OFF\")"
   ]
  },
  {
   "cell_type": "markdown",
   "metadata": {},
   "source": [
    "## <b> Connecting to RPI </b>"
   ]
  },
  {
   "cell_type": "code",
   "execution_count": null,
   "metadata": {},
   "outputs": [],
   "source": [
    "#Connecting to the RPi over Wi-Fi\n",
    "import datetime\n",
    "import paramiko\n",
    "from paramiko import SSHClient\n",
    "from scp import SCPClient\n",
    "#RPi = '192.168.0.7' # This is the IP address when RPi is connected to SHL network, note that this changes depending on different networks unless static IP is set\n",
    "RPi = '172.20.10.10' # This is the IP address when RPi is connected to RickyiPhone hotspot\n",
    "ssh = paramiko.SSHClient()\n",
    "ssh.set_missing_host_key_policy(paramiko.AutoAddPolicy())\n",
    "\n",
    "ssh.load_system_host_keys()\n",
    "ssh.connect(RPi,username='pi',password='VM3000Pi4')"
   ]
  },
  {
   "cell_type": "code",
   "execution_count": null,
   "metadata": {},
   "outputs": [],
   "source": [
    "scp = SCPClient(ssh.get_transport())"
   ]
  },
  {
   "cell_type": "code",
   "execution_count": null,
   "metadata": {},
   "outputs": [],
   "source": [
    "# File directory for all audio .wav test files\n",
    "import os\n",
    "\n",
    "# Change windows directory to Audio Files\n",
    "os.chdir(\"C:\\\\Users\\\\ricky\\\\Documents\\\\VM3000-Microphones\\\\Experimental Testing\")\n",
    "\n",
    "# Checking Current File directory\n",
    "print(os.getcwd())"
   ]
  },
  {
   "cell_type": "code",
   "execution_count": null,
   "metadata": {},
   "outputs": [],
   "source": [
    "# Checking RPI Zero W files using ls\n",
    "\n",
    "stdin, stdout, stderr = ssh.exec_command('ls -l')\n",
    "for x in stdout: # stdout is a file, therefore to see the ls contents of the RPI, we use a for loop and print out all lines in stdout\n",
    "    print(x)"
   ]
  },
  {
   "cell_type": "markdown",
   "metadata": {},
   "source": [
    "## <b> Class for Test Functions </b>"
   ]
  },
  {
   "cell_type": "code",
   "execution_count": null,
   "metadata": {},
   "outputs": [],
   "source": [
    "class signalTests():    \n",
    "    def sweepTest(self, mode=\"logarithmic\", recordTime=9, runTime=5, sleepTime=2,arrayAngle=0):\n",
    "        from paramiko import SSHClient\n",
    "        from scp import SCPClient\n",
    "        import time\n",
    "        \n",
    "        now = datetime.datetime.now().strftime(\"%Y%m%d_%H%M%S\")\n",
    "        sample_rate = 96000\n",
    "        \n",
    "        startFreq = 500\n",
    "        endFreq = 3000\n",
    "\n",
    "        cmd = f'cd ~/AudioFiles; arecord -D plughw:1 -c2 -r {sample_rate} -f S16_LE -t wav -V stereo -v -d {recordTime} Pi4sweepTest_{now}_{distance}_0{arrayAngle}_{startFreq}_{endFreq}_{runTime}.wav'\n",
    "\n",
    "        print(cmd)\n",
    "        ssh.exec_command(cmd)\n",
    "        \n",
    "        time.sleep(sleepTime) # Buffer time prior to enabling signal generator\n",
    "        \n",
    "        testName = \"Sweep Test\"\n",
    "        \n",
    "        sg.enable_sweep(mode, runTime)\n",
    "        sg.enable()\n",
    "        time.sleep(runTime)\n",
    "        sg.disable()\n",
    "        time.sleep(sleepTime)\n",
    "        sg.disable_sweep()\n",
    "        \n",
    "        print(f\"Finished {testName} Output\")\n",
    "        \n",
    "        while (int(ssh.exec_command('ps -C arecord | wc -l')[1].read()) > 1): # Checking for arecord to finish writing .wav file prior to pulling file using scp\n",
    "            time.sleep(1)\n",
    "        \n",
    "        scp.get(f'~/AudioFiles/Pi4sweepTest_{now}_{distance}_0{arrayAngle}_{startFreq}_{endFreq}_{runTime}.wav') # Command pulls file into .../Audio Files folder\n",
    "        \n",
    "    def sineTest(self, frequency=2000, amplitude=0.01, offset=0, recordTime=15, runTime=10, sleepTime=5):\n",
    "        from paramiko import SSHClient\n",
    "        from scp import SCPClient\n",
    "        import datetime\n",
    "        import time\n",
    "\n",
    "        now = datetime.datetime.now().strftime(\"%Y%m%d_%H%M%S\")\n",
    "        sample_rate = 96000\n",
    "\n",
    "        cmd = f'cd ~/AudioFiles; arecord -D plughw:1 -c2 -r {sample_rate} -f S16_LE -t wav -V stereo -v -d {recordTime} Pi4sineTest_{now}.wav'\n",
    "\n",
    "        print(cmd)\n",
    "        ssh.exec_command(cmd)\n",
    "        \n",
    "        time.sleep(2)\n",
    "        \n",
    "        testName = \"Sine Wave Test\"\n",
    "        \n",
    "        sg.sine(frequency,amplitude,offset)\n",
    "        sg.enable()\n",
    "        time.sleep(runTime)\n",
    "        sg.disable()\n",
    "        time.sleep(sleepTime)\n",
    "\n",
    "        print(f\"Finished {testName} Output\")\n",
    "        \n",
    "        while (int(ssh.exec_command('ps -C arecord | wc -l')[1].read()) > 1):\n",
    "            time.sleep(1)\n",
    "        \n",
    "        scp.get(f'~/AudioFiles/Pi4sineTest_{now}.wav')\n",
    "        \n",
    "    def sineSweepBurstTest(self, frequency=500, amplitude=0.01, offset=0, step=125, recordTime=12, runTime=8, sleepTime=2, arrayAngle=0):\n",
    "        from paramiko import SSHClient\n",
    "        from scp import SCPClient\n",
    "        import datetime\n",
    "        import time\n",
    "\n",
    "        now = datetime.datetime.now().strftime(\"%Y%m%d_%H%M%S\")\n",
    "        sample_rate = 96000\n",
    "\n",
    "        cmd = f'cd ~/AudioFiles; arecord -D plughw:1 -c2 -r {sample_rate} -f S16_LE -t wav -V stereo -v -d {recordTime} Pi4sweepBurstTest_{now}_{distance}_0{arrayAngle}_{startFreq}_{endFreq}_{step}_{runTime}.wav'\n",
    "\n",
    "        print(cmd)\n",
    "        ssh.exec_command(cmd)\n",
    "        \n",
    "        time.sleep(2)\n",
    "        \n",
    "        testName = \"Sine Sweep Burst Test\"\n",
    "        \n",
    "        sg.sine(frequency,amplitude,offset)\n",
    "        sg.enable()\n",
    "        \n",
    "        for i in range(1,22,1):\n",
    "            if i < 2:\n",
    "                frequency=frequency\n",
    "                sg.sine(frequency,amplitude,offset)\n",
    "                sg.enable()\n",
    "                time.sleep(0.2)\n",
    "                sg.disable()\n",
    "                time.sleep(0.2)\n",
    "            else:  \n",
    "                frequency=frequency+step\n",
    "                sg.sine(frequency,amplitude,offset)\n",
    "                sg.enable()\n",
    "                time.sleep(0.2)\n",
    "                sg.disable()\n",
    "                time.sleep(0.2)\n",
    "            \n",
    "        time.sleep(sleepTime)    \n",
    "            \n",
    "        print(f\"Finished {testName} Output\")\n",
    "        \n",
    "        while (int(ssh.exec_command('ps -C arecord | wc -l')[1].read()) > 1):\n",
    "            time.sleep(1)\n",
    "        \n",
    "        scp.get(f'~/AudioFiles/Pi4sweepBurstTest_{now}_{distance}_0{arrayAngle}_{startFreq}_{endFreq}_{step}_{runTime}.wav')        "
   ]
  },
  {
   "cell_type": "markdown",
   "metadata": {},
   "source": [
    "## <b> Data Collection </b>"
   ]
  },
  {
   "cell_type": "code",
   "execution_count": null,
   "metadata": {},
   "outputs": [],
   "source": [
    "from scipy.io import wavfile\n",
    "from scipy.fftpack import fft,fftfreq\n",
    "\n",
    "import IPython\n",
    "import numpy as np\n",
    "import soundfile\n",
    "import wave\n",
    "\n",
    "import IPython.display as ipd\n",
    "import ffmpeg\n",
    "import time\n",
    "import datetime"
   ]
  },
  {
   "cell_type": "code",
   "execution_count": null,
   "metadata": {},
   "outputs": [],
   "source": [
    "st = signalTests()\n",
    "sg = keysight()\n",
    "sg.enable_high_impedance()"
   ]
  },
  {
   "cell_type": "markdown",
   "metadata": {},
   "source": [
    "### Sine Wave Test"
   ]
  },
  {
   "cell_type": "code",
   "execution_count": null,
   "metadata": {},
   "outputs": [],
   "source": [
    "frequency = 2000\n",
    "amplitude = 0.03 # Vrms\n",
    "offset = 0\n",
    "sleep_time = 2\n",
    "\n",
    "sg.sine(frequency,amplitude,offset)\n",
    "sg.enable()\n",
    "time.sleep(sleep_time)\n",
    "sg.disable()\n",
    "time.sleep(sleep_time)\n",
    "\n",
    "print(f\"Finished Sine Wave Output\")"
   ]
  },
  {
   "cell_type": "markdown",
   "metadata": {},
   "source": [
    "### Frequency Sweep Test"
   ]
  },
  {
   "cell_type": "code",
   "execution_count": null,
   "metadata": {},
   "outputs": [],
   "source": [
    "# Running Frequency Sweep Test & recording audio from Pi4\n",
    "\n",
    "mode=\"linear\"\n",
    "runTime = 5\n",
    "sleepTime = 2\n",
    "recordTime = 9 # Always specify a recordTime greater than runTime to build in a buffer at the end of audio recording\n",
    "distance = 2\n",
    "arrayAngle = 340\n",
    "startFreq = 500\n",
    "endFreq = 3000\n",
    "\n",
    "now = datetime.datetime.now().strftime(\"%Y%m%d_%H%M%S\")\n",
    "\n",
    "st.sweepTest(mode,recordTime,runTime,sleepTime,arrayAngle)"
   ]
  },
  {
   "cell_type": "code",
   "execution_count": null,
   "metadata": {},
   "outputs": [],
   "source": [
    "# Trimming the empty buffer time of wav file\n",
    "\n",
    "audio_input = ffmpeg.input(f'Pi4sweepTest_{now}_{distance}_0{arrayAngle}_{startFreq}_{endFreq}_{runTime}.wav')\n",
    "audio_cut = audio_input.audio.filter('atrim', start=2, end=7.2)\n",
    "audio_output = ffmpeg.output(audio_cut, f'Pi4sweepTest_{now}_{distance}_0{arrayAngle}_{startFreq}_{endFreq}_5.2_trimmed.wav')\n",
    "ffmpeg.run(audio_output)"
   ]
  },
  {
   "cell_type": "code",
   "execution_count": null,
   "metadata": {},
   "outputs": [],
   "source": [
    "# Play recorded audio\n",
    "data, samplerate = soundfile.read(f\"Pi4sweepTest_{now}_{distance}_0{arrayAngle}_{startFreq}_{endFreq}_{runTime}_trimmed.wav\")\n",
    "\n",
    "ipd.Audio(f\"Pi4sweepTest_{distance}_0{arrayAngle}_{startFreq}_{endFreq}_{runTime}.wav\") # load recent local sweep test file"
   ]
  },
  {
   "cell_type": "markdown",
   "metadata": {},
   "source": [
    "### Burst Frequency Sweep Test"
   ]
  },
  {
   "cell_type": "code",
   "execution_count": null,
   "metadata": {},
   "outputs": [],
   "source": [
    "frequency=500\n",
    "amplitude=0.03 # Vrms\n",
    "offset=0\n",
    "step=125\n",
    "runTime=9\n",
    "sleepTime=2\n",
    "recordTime=13\n",
    "arrayAngle=340\n",
    "distance=2\n",
    "startFreq=500\n",
    "endFreq=3000\n",
    "\n",
    "now = datetime.datetime.now().strftime(\"%Y%m%d_%H%M%S\")\n",
    "\n",
    "st.sineSweepBurstTest(frequency,amplitude,offset,step,recordTime,runTime,sleepTime,arrayAngle)"
   ]
  },
  {
   "cell_type": "code",
   "execution_count": null,
   "metadata": {},
   "outputs": [],
   "source": [
    "# Trimming the empty buffer time of wav file\n",
    "\n",
    "audio_input = ffmpeg.input(f'Pi4sweepBurstTest_{now}_{distance}_0{arrayAngle}_{startFreq}_{endFreq}_{step}_{runTime}.wav')\n",
    "audio_cut = audio_input.audio.filter('atrim', start=2, end=12.2)\n",
    "audio_output = ffmpeg.output(audio_cut, f'Pi4sweepBurstTest_{now}_{distance}_0{arrayAngle}_{startFreq}_{endFreq}_10.2_trimmed.wav')\n",
    "ffmpeg.run(audio_output) "
   ]
  },
  {
   "cell_type": "code",
   "execution_count": null,
   "metadata": {},
   "outputs": [],
   "source": [
    "# Play recorded audio\n",
    "ipd.Audio(f\"Pi4sweepTest_{distance}_0{arrayAngle}_{startFreq}_{endFreq}_{runTime}.wav\") # load recent local sine test file"
   ]
  }
 ],
 "metadata": {
  "kernelspec": {
   "display_name": "Python 3",
   "language": "python",
   "name": "python3"
  },
  "language_info": {
   "codemirror_mode": {
    "name": "ipython",
    "version": 3
   },
   "file_extension": ".py",
   "mimetype": "text/x-python",
   "name": "python",
   "nbconvert_exporter": "python",
   "pygments_lexer": "ipython3",
   "version": "3.7.9"
  }
 },
 "nbformat": 4,
 "nbformat_minor": 4
}
