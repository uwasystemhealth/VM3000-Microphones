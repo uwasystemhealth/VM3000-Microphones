{
 "cells": [
  {
   "cell_type": "markdown",
   "metadata": {},
   "source": [
    " ## <b>Connecting vxi11 compatible devices via Ethernet </b>"
   ]
  },
  {
   "cell_type": "code",
   "execution_count": null,
   "metadata": {},
   "outputs": [],
   "source": [
    "!pip3 install python-vxi11"
   ]
  },
  {
   "cell_type": "code",
   "execution_count": null,
   "metadata": {},
   "outputs": [],
   "source": [
    "import vxi11\n",
    "import time"
   ]
  },
  {
   "cell_type": "code",
   "execution_count": null,
   "metadata": {},
   "outputs": [],
   "source": [
    "keysight_ip = '192.168.0.8'"
   ]
  },
  {
   "cell_type": "code",
   "execution_count": null,
   "metadata": {},
   "outputs": [],
   "source": [
    "Keysight = vxi11.Instrument(keysight_ip)\n",
    "print(Keysight.ask(\"*IDN?\"))"
   ]
  },
  {
   "cell_type": "code",
   "execution_count": null,
   "metadata": {},
   "outputs": [],
   "source": [
    "rigol_ip = '192.168.0.14'"
   ]
  },
  {
   "cell_type": "code",
   "execution_count": null,
   "metadata": {},
   "outputs": [],
   "source": [
    "# Rigol = vxi11.Instrument(rigol_ip)\n",
    "# print(Rigol.ask(\"*IDN?\"))"
   ]
  },
  {
   "cell_type": "markdown",
   "metadata": {},
   "source": [
    "## <b> Interacting with a Brüel & Kjær Type 3050-B-6 using Python </b>"
   ]
  },
  {
   "cell_type": "code",
   "execution_count": null,
   "metadata": {},
   "outputs": [],
   "source": [
    "cd ../PyBnK"
   ]
  },
  {
   "cell_type": "code",
   "execution_count": null,
   "metadata": {},
   "outputs": [],
   "source": [
    "from bnk.bnk import WavHeader, OpenWav, Instrument"
   ]
  },
  {
   "cell_type": "code",
   "execution_count": null,
   "metadata": {},
   "outputs": [],
   "source": [
    "bnk_ip = '192.168.0.9'\n",
    "ADAC = Instrument(bnk_ip)\n",
    "print(ADAC) # Show some info about the BnK device"
   ]
  },
  {
   "cell_type": "markdown",
   "metadata": {},
   "source": [
    "## <b> Python Wrapper for Keysight 33500B - Modified from Carlin's code</b>"
   ]
  },
  {
   "cell_type": "code",
   "execution_count": null,
   "metadata": {},
   "outputs": [],
   "source": [
    "class keysight():\n",
    "    \n",
    "    def __init__(self,instrument_ID=keysight_ip):\n",
    "        self.Keysight =  vxi11.Instrument(instrument_ID)\n",
    "        print(self.Keysight.ask(\"*IDN?\"))\n",
    "        \n",
    "    def enable(self):\n",
    "        self.Keysight.write(\"OUTPut ON\")\n",
    "        \n",
    "    def disable(self):\n",
    "        self.Keysight.write(\"OUTPut OFF\") \n",
    "        \n",
    "    def enable_high_impedance(self):\n",
    "        self.Keysight.write(\"OUTPut:LOAD INF\")  \n",
    "        \n",
    "    def sine(self,frequency=500,amplitude=0.01,offset=0):\n",
    "        self.Keysight.write(f\"VOLTage:OFFSet {offset}\")\n",
    "        self.Keysight.write(\"VOLTage:UNIT VRMS\")\n",
    "        self.Keysight.write(f\"VOLTage {amplitude}\")\n",
    "        self.Keysight.write(\"FUNCtion SINusoid\")\n",
    "        self.Keysight.write(f\"FREQuency {frequency}\")\n",
    "        \n",
    "    def whitenoise(self, bandwidth=1500, amplitude=0.01):\n",
    "        self.Keysight.write(\"VOLTage:UNIT VRMS\")\n",
    "        self.Keysight.write(f\"VOLTage {amplitude}\")\n",
    "        self.Keysight.write(\"FUNCtion NOISe\")\n",
    "        self.Keysight.write(f\"FUNCtion:NOISe:BANDwidth {bandwidth}\")\n",
    "        \n",
    "    def enable_burst(self,frequency=2000,ncycles=1,int_period=2,amplitude=0.01):\n",
    "        self.Keysight.write(\"FUNCtion SINusoid\")\n",
    "        self.Keysight.write(f\"FREQuency {frequency}\")\n",
    "        self.Keysight.write(f\"VOLTage {amplitude}\")\n",
    "        self.Keysight.write(\"BURSt:MODE TRIG\")\n",
    "        self.Keysight.write(f\"BURSt:NCYCles {ncycles}\")\n",
    "        self.Keysight.write(f\"BURSt:INTernal:PERiod {int_period}\")\n",
    "        self.Keysight.write(\"TRIGger:SOURce IMMediate\")\n",
    "        self.Keysight.write(\"BURSt:STATe ON\")\n",
    "        \n",
    "        self.Keysight.write(\"OUTPut ON\")\n",
    "        \n",
    "    def disable_burst(self):\n",
    "        self.Keysight.write(\"BURSt:STATe OFF\")\n",
    "        self.Keysight.write(\"OUTPut OFF\")\n",
    "        \n",
    "    def enable_sweep(self, mode=\"logarithmic\", runTime=10):\n",
    "        self.Keysight.write(\"FUNCtion SINusoid\")\n",
    "        self.Keysight.write(\"SWEep:STATe ON\")\n",
    "        self.Keysight.write(f\"SWEep:SPAcing {mode}\")\n",
    "        self.Keysight.write(f\"SWEep:TIME {runTime}\")\n",
    "        self.Keysight.write(f\"FREQuency:STARt {500}\")\n",
    "        self.Keysight.write(f\"FREQuency:STOP {3000}\")\n",
    "        self.Keysight.write(\"OUTPut ON\")\n",
    "        \n",
    "    def disable_sweep(self):\n",
    "        self.Keysight.write(\"SWEep:STATe OFF\")\n",
    "        self.Keysight.write(\"OUTPut OFF\")"
   ]
  },
  {
   "cell_type": "markdown",
   "metadata": {},
   "source": [
    "## <b> Connecting to RPI </b>"
   ]
  },
  {
   "cell_type": "code",
   "execution_count": null,
   "metadata": {},
   "outputs": [],
   "source": [
    "#Connecting to the RPi over Wi-Fi\n",
    "import datetime\n",
    "import paramiko\n",
    "from paramiko import SSHClient\n",
    "from scp import SCPClient\n",
    "RPi = '192.168.0.7' # This is the IP address when RPi is connected to SHL network, note that this changes depending on different networks unless static IP is set\n",
    "ssh = paramiko.SSHClient()\n",
    "ssh.set_missing_host_key_policy(paramiko.AutoAddPolicy())\n",
    "\n",
    "ssh.load_system_host_keys()\n",
    "ssh.connect(RPi,username='pi',password='VM3000Pi4')"
   ]
  },
  {
   "cell_type": "code",
   "execution_count": null,
   "metadata": {},
   "outputs": [],
   "source": [
    "scp = SCPClient(ssh.get_transport())"
   ]
  },
  {
   "cell_type": "code",
   "execution_count": null,
   "metadata": {},
   "outputs": [],
   "source": [
    "# File directory for all audio .wav test files\n",
    "import os\n",
    "\n",
    "# Change windows directory to Audio Files\n",
    "os.chdir(\"C:\\\\Users\\\\ricky\\\\Documents\\\\VM3000-Microphones\\\\Audio Files\")\n",
    "\n",
    "# Checking Current File directory\n",
    "print(os.getcwd())"
   ]
  },
  {
   "cell_type": "code",
   "execution_count": null,
   "metadata": {},
   "outputs": [],
   "source": [
    "# Checking RPI Zero W files using ls\n",
    "\n",
    "stdin, stdout, stderr = ssh.exec_command('ls -l')\n",
    "for x in stdout: # stdout is a file, therefore to see the ls contents of the RPI, we use a for loop and print out all lines in stdout\n",
    "    print(x)"
   ]
  },
  {
   "cell_type": "code",
   "execution_count": null,
   "metadata": {
    "jupyter": {
     "source_hidden": true
    }
   },
   "outputs": [],
   "source": [
    "# client = SSHClient()\n",
    "# client.load_system_host_keys()\n",
    "# client.connect('192.168.0.6',username='pi')\n",
    "#stdin, stdout, stderr = client.exec_command('touch test_file.txt')\n",
    "#print(stdin)"
   ]
  },
  {
   "cell_type": "code",
   "execution_count": null,
   "metadata": {
    "jupyter": {
     "source_hidden": true
    }
   },
   "outputs": [],
   "source": [
    "# cmd = client.exec_command('arecord -D plughw:1 -c2 -r 48000 -f S16_LE -t wav -V stereo -v -d 50 tester2.wav')"
   ]
  },
  {
   "cell_type": "markdown",
   "metadata": {},
   "source": [
    "## <b> Class for Test Functions </b>"
   ]
  },
  {
   "cell_type": "code",
   "execution_count": null,
   "metadata": {},
   "outputs": [],
   "source": [
    "class signalTests():    \n",
    "    def sweepTest(self, mode=\"logarithmic\", recordTime=15, runTime=10, sleepTime=5):\n",
    "        from paramiko import SSHClient\n",
    "        from scp import SCPClient\n",
    "        import datetime\n",
    "        import time\n",
    "        \n",
    "        now = datetime.datetime.now().strftime(\"%Y%m%d_%H%M%S\")\n",
    "        sample_rate = 96000\n",
    "\n",
    "        cmd = f'cd ~/AudioFiles; arecord -D plughw:1 -c2 -r {sample_rate} -f S16_LE -t wav -V stereo -v -d {recordTime} Pi4sweepTest_{now}.wav'\n",
    "\n",
    "        print(cmd)\n",
    "        ssh.exec_command(cmd)\n",
    "        \n",
    "        time.sleep(sleepTime) # Buffer time prior to enabling signal generator\n",
    "        \n",
    "        testName = \"Sweep Test\"\n",
    "        \n",
    "        sg.enable_sweep(mode, runTime)\n",
    "        sg.enable()\n",
    "        time.sleep(runTime)\n",
    "        sg.disable()\n",
    "        time.sleep(sleepTime)\n",
    "        sg.disable_sweep()\n",
    "        \n",
    "        print(f\"Finished {testName} Output\")\n",
    "        \n",
    "        while (int(ssh.exec_command('ps -C arecord | wc -l')[1].read()) > 1): # Checking for arecord to finish writing .wav file prior to pulling file using scp\n",
    "            time.sleep(1)\n",
    "        \n",
    "        scp.get(f'~/AudioFiles/Pi4sweepTest_{now}.wav') # Command pulls file into .../Audio Files folder\n",
    "        \n",
    "    def sineTest(self, frequency=2000, amplitude=0.01, offset=0, recordTime=15, runTime=10, sleepTime=5):\n",
    "        from paramiko import SSHClient\n",
    "        from scp import SCPClient\n",
    "        import datetime\n",
    "        import time\n",
    "\n",
    "        now = datetime.datetime.now().strftime(\"%Y%m%d_%H%M%S\")\n",
    "        sample_rate = 96000\n",
    "\n",
    "        cmd = f'cd ~/AudioFiles; arecord -D plughw:1 -c2 -r {sample_rate} -f S16_LE -t wav -V stereo -v -d {recordTime} Pi4sineTest_{now}.wav'\n",
    "\n",
    "        print(cmd)\n",
    "        ssh.exec_command(cmd)\n",
    "        \n",
    "        time.sleep(2.5)\n",
    "        \n",
    "        testName = \"Sine Wave Test\"\n",
    "        \n",
    "        sg.sine(frequency,amplitude,offset)\n",
    "        sg.enable()\n",
    "        time.sleep(runTime)\n",
    "        sg.disable()\n",
    "        time.sleep(sleepTime)\n",
    "\n",
    "        print(f\"Finished {testName} Output\")\n",
    "        \n",
    "        while (int(ssh.exec_command('ps -C arecord | wc -l')[1].read()) > 1):\n",
    "            time.sleep(1)\n",
    "        \n",
    "        scp.get(f'~/AudioFiles/Pi4sineTest_{now}.wav')\n",
    "        \n",
    "    def sineSweepBurstTest(self, frequency=500, amplitude=0.01, offset=0, step=125, recordTime=15, runTime=10, sleepTime=5):\n",
    "        from paramiko import SSHClient\n",
    "        from scp import SCPClient\n",
    "        import datetime\n",
    "        import time\n",
    "\n",
    "        now = datetime.datetime.now().strftime(\"%Y%m%d_%H%M%S\")\n",
    "        sample_rate = 96000\n",
    "\n",
    "        cmd = f'cd ~/AudioFiles; arecord -D plughw:1 -c2 -r {sample_rate} -f S16_LE -t wav -V stereo -v -d {recordTime} Pi4sineSweepBurstTest_{now}.wav'\n",
    "\n",
    "        print(cmd)\n",
    "        ssh.exec_command(cmd)\n",
    "        \n",
    "        time.sleep(2.5)\n",
    "        \n",
    "        testName = \"Sine Sweep Burst Test\"\n",
    "        \n",
    "        sg.sine(frequency,amplitude,offset)\n",
    "        sg.enable()\n",
    "        \n",
    "        for i in range(1,21,1):\n",
    "            if i < 2:\n",
    "                frequency=frequency\n",
    "                sg.sine(frequency,amplitude,offset)\n",
    "                sg.enable()\n",
    "                time.sleep(0.2)\n",
    "                sg.disable()\n",
    "                time.sleep(0.2)\n",
    "            else:  \n",
    "                frequency=frequency+step\n",
    "                sg.sine(frequency,amplitude,offset)\n",
    "                sg.enable()\n",
    "                time.sleep(0.2)\n",
    "                sg.disable()\n",
    "                time.sleep(0.2)\n",
    "            \n",
    "        time.sleep(sleepTime)    \n",
    "            \n",
    "        print(f\"Finished {testName} Output\")\n",
    "        \n",
    "        while (int(ssh.exec_command('ps -C arecord | wc -l')[1].read()) > 1):\n",
    "            time.sleep(1)\n",
    "        \n",
    "        scp.get(f'~/AudioFiles/Pi4sineSweepBurstTest_{now}.wav')        \n",
    "        \n",
    "    def whiteNoiseTest(self, bandwidth=500, amplitude=0.01, recordTime=15, runTime=10, sleepTime=2):\n",
    "        from paramiko import SSHClient\n",
    "        from scp import SCPClient\n",
    "        import datetime\n",
    "        import time\n",
    "\n",
    "        now = datetime.datetime.now().strftime(\"%Y%m%d_%H%M%S\")\n",
    "        sample_rate = 96000\n",
    "\n",
    "        cmd = f'cd ~/AudioFiles; arecord -D plughw:1 -c2 -r {sample_rate} -f S16_LE -t wav -V stereo -v -d {recordTime} Pi4whiteNoiseTest_{now}.wav'\n",
    "\n",
    "        print(cmd)\n",
    "        ssh.exec_command(cmd)      \n",
    "        \n",
    "        time.sleep(2.5)\n",
    "        \n",
    "        testName = \"White Noise Test\"\n",
    "        \n",
    "        sg.whitenoise(bandwidth,amplitude)\n",
    "        sg.enable()\n",
    "        time.sleep(runTime)\n",
    "        sg.disable()\n",
    "        time.sleep(sleepTime)\n",
    "\n",
    "        print(f\"Finished {testName} Output\")\n",
    "        \n",
    "        while (int(ssh.exec_command('ps -C arecord | wc -l')[1].read()) > 1):\n",
    "            time.sleep(1)\n",
    "        \n",
    "        scp.get(f'~/AudioFiles/Pi4whiteNoiseTest_{now}.wav')\n",
    "        \n",
    "    def burstTest(self, frequency=2000, amplitude=0.01, offset=0, ncycles=10, interval=1):\n",
    "        from paramiko import SSHClient\n",
    "        from scp import SCPClient\n",
    "        import datetime\n",
    "        import time\n",
    "\n",
    "        now = datetime.datetime.now().strftime(\"%Y%m%d_%H%M%S\")\n",
    "        sample_rate = 96000\n",
    "\n",
    "        cmd = f'cd ~/AudioFiles; arecord -D plughw:1 -c2 -r {sample_rate} -f S16_LE -t wav -V stereo -v -d {runTime} Pi4burstTest_{now}.wav'\n",
    "\n",
    "        print(cmd)\n",
    "        ssh.exec_command(cmd)     \n",
    "        \n",
    "        time.sleep(2.5)\n",
    "        \n",
    "        testName = \"Burst Test\"\n",
    "\n",
    "        t_end = time.time() + 10\n",
    "        \n",
    "        while time.time() < t_end:\n",
    "            sg.enable_burst(frequency,ncycles,interval)\n",
    "        \n",
    "        sg.disable_burst()\n",
    "\n",
    "        print(f\"Finished {testName} Output\")  \n",
    "        \n",
    "        while (int(ssh.exec_command('ps -C arecord | wc -l')[1].read()) > 1):\n",
    "            time.sleep(1)\n",
    "        \n",
    "        scp.get(f'~/AudioFiles/Pi4burstTest_{now}.wav')\n",
    "        \n",
    "    def ambientTest(self):\n",
    "        from paramiko import SSHClient\n",
    "        from scp import SCPClient\n",
    "        import datetime\n",
    "        import time\n",
    "\n",
    "        now = datetime.datetime.now().strftime(\"%Y%m%d_%H%M%S\")\n",
    "        sample_rate = 96000\n",
    "\n",
    "        cmd = f'cd ~/AudioFiles; arecord -D plughw:1 -c2 -r {sample_rate} -f S16_LE -t wav -V stereo -v -d {runTime} Pi4ambientTest_{now}.wav'\n",
    "\n",
    "        print(cmd)\n",
    "        ssh.exec_command(cmd)   \n",
    "        \n",
    "        time.sleep(2.5)\n",
    "        \n",
    "        testName = \"Ambient Test\"\n",
    "        \n",
    "        print(f\"Finished {testName} Output\")\n",
    "        \n",
    "        while (int(ssh.exec_command('ps -C arecord | wc -l')[1].read()) > 1):\n",
    "            time.sleep(1)\n",
    "        \n",
    "        scp.get(f'~/AudioFiles/Pi4ambientTest_{now}.wav')"
   ]
  },
  {
   "cell_type": "markdown",
   "metadata": {},
   "source": [
    "## <b> Test Cases </b>"
   ]
  },
  {
   "cell_type": "code",
   "execution_count": null,
   "metadata": {},
   "outputs": [],
   "source": [
    "sg=keysight()\n",
    "sg.enable_high_impedance()"
   ]
  },
  {
   "cell_type": "code",
   "execution_count": null,
   "metadata": {},
   "outputs": [],
   "source": [
    "import paramiko\n",
    "import time\n",
    "import datetime"
   ]
  },
  {
   "cell_type": "code",
   "execution_count": null,
   "metadata": {},
   "outputs": [],
   "source": [
    "# Sweep Test\n",
    "\n",
    "test1_name = \"Sweep Test\"\n",
    "mode = \"logarithmic\"\n",
    "sweep_period = 10\n",
    "\n",
    "sg.enable_sweep(mode,sweep_period)\n",
    "sg.enable()\n",
    "time.sleep(sweep_period)\n",
    "sg.disable()\n",
    "time.sleep(sweep_period)\n",
    "sg.disable_sweep()\n",
    "\n",
    "print(f\"Finished {test1_name} Output\")"
   ]
  },
  {
   "cell_type": "code",
   "execution_count": null,
   "metadata": {},
   "outputs": [],
   "source": [
    "# Continuous Sine Wave Test\n",
    "\n",
    "test2_name = \"Sine Wave Test\"\n",
    "frequency = 2000\n",
    "amplitude = 0.01 # Vrms\n",
    "offset = 0\n",
    "sleep_time = 2\n",
    "\n",
    "sg.sine(frequency,amplitude,offset)\n",
    "sg.enable()\n",
    "time.sleep(sleep_time)\n",
    "sg.disable()\n",
    "time.sleep(sleep_time)\n",
    "\n",
    "print(f\"Finished {test2_name} Output\")"
   ]
  },
  {
   "cell_type": "code",
   "execution_count": null,
   "metadata": {},
   "outputs": [],
   "source": [
    "# White Noise Test\n",
    "\n",
    "test3_name = \"White Noise Test\"\n",
    "bandwidth = 500\n",
    "amplitude = 0.01 # Vrms\n",
    "sleep_time = 2\n",
    "\n",
    "sg.whitenoise(bandwidth,amplitude)\n",
    "sg.enable()\n",
    "time.sleep(sleep_time)\n",
    "sg.disable()s\n",
    "time.sleep(sleep_time)\n",
    "\n",
    "print(f\"Finished {test3_name} Output\")"
   ]
  },
  {
   "cell_type": "code",
   "execution_count": null,
   "metadata": {},
   "outputs": [],
   "source": [
    "# Burst Sweep Test\n",
    "\n",
    "test4_name = \"Burst Sweep Test\"\n",
    "frequency = 2000\n",
    "ncycles = 10\n",
    "int_period = 1\n",
    "sleep_time = 2\n",
    "\n",
    "sg.enable_burst(frequency,ncycles,int_period)\n",
    "  \n",
    "for f in range(2000,5000,1000):\n",
    "    print(f'Pulsing at {f} Hz')\n",
    "    Keysight.write(f\"FREQuency {f}\")\n",
    "    sg.enable()\n",
    "    time.sleep(sleep_time)\n",
    "    sg.disable()\n",
    "    time.sleep(sleep_time)\n",
    "\n",
    "sg.disable_burst()\n",
    "    \n",
    "print(f\"Finished {test4_name} Output\")"
   ]
  },
  {
   "cell_type": "code",
   "execution_count": null,
   "metadata": {},
   "outputs": [],
   "source": [
    "# Burst Test Constant Frequency\n",
    "\n",
    "test5_name = \"Constant Frequency Burst Test\"\n",
    "frequency = 2000\n",
    "ncycles = 10\n",
    "int_period = 1\n",
    "sleep_time = 2\n",
    "\n",
    "sg.enable_burst(frequency,ncycles,int_period)\n",
    "\n",
    "for i in range(1,11,1):\n",
    "    print(f'Pulse number {i}')\n",
    "    Keysight.write(f\"FREQuency {frequency}\")\n",
    "    sg.enable()\n",
    "    time.sleep(sleep_time)\n",
    "    sg.disable()\n",
    "    time.sleep(sleep_time)\n",
    "          \n",
    "print(f\"Finished {test5_name} Output\")"
   ]
  },
  {
   "cell_type": "markdown",
   "metadata": {},
   "source": [
    "## <b> Frequency Response Characteristics Testing Script </b>"
   ]
  },
  {
   "cell_type": "code",
   "execution_count": null,
   "metadata": {},
   "outputs": [],
   "source": [
    "%matplotlib inline\n",
    "import matplotlib.pyplot as plt\n",
    "\n",
    "from scipy.io import wavfile\n",
    "from scipy.fftpack import fft,fftfreq\n",
    "\n",
    "import IPython\n",
    "import numpy as np\n",
    "import soundfile\n",
    "import wave\n",
    "\n",
    "import datetime\n",
    "import time\n",
    "\n",
    "from bokeh.plotting import figure, output_notebook, show\n",
    "from bokeh.models import Legend\n",
    "\n",
    "\n",
    "import IPython.display as ipd\n",
    "\n",
    "import ffmpeg"
   ]
  },
  {
   "cell_type": "code",
   "execution_count": null,
   "metadata": {},
   "outputs": [],
   "source": [
    "st = signalTests()\n",
    "\n",
    "#sg=keysight()\n",
    "#sg.enable_high_impedance()"
   ]
  },
  {
   "cell_type": "code",
   "execution_count": null,
   "metadata": {},
   "outputs": [],
   "source": [
    "#st = signalTests()"
   ]
  },
  {
   "cell_type": "markdown",
   "metadata": {},
   "source": [
    "### Frequency Sweep Test"
   ]
  },
  {
   "cell_type": "code",
   "execution_count": null,
   "metadata": {},
   "outputs": [],
   "source": [
    "# Running Frequency Sweep Test & recording audio from RPI Zero W \n",
    "\n",
    "mode=\"logarithmic\"\n",
    "runTime=5\n",
    "sleepTime=2\n",
    "recordTime=10 # Always specify a recordTime greater than runTime to build in a buffer at the end of audio recording\n",
    "\n",
    "now = datetime.datetime.now().strftime(\"%Y%m%d_%H%M%S\")\n",
    "\n",
    "st.sweepTest(mode,recordTime,runTime,sleepTime)"
   ]
  },
  {
   "cell_type": "code",
   "execution_count": null,
   "metadata": {},
   "outputs": [],
   "source": [
    "# Trimming the empty buffer time of wav file\n",
    "\n",
    "audio_input = ffmpeg.input(f'Pi4sweepTest_{now}.wav')\n",
    "#audio_input = ffmpeg.input('sweepTest_20210312_134055.wav')\n",
    "audio_cut = audio_input.audio.filter('atrim', start=2, end=8.5)\n",
    "audio_output = ffmpeg.output(audio_cut, f'Pi4sweepTest_{now}_trimmed.wav')\n",
    "#audio_output = ffmpeg.output(audio_cut, 'sweepTest_20210312_134055_trimmed.wav')\n",
    "ffmpeg.run(audio_output)"
   ]
  },
  {
   "cell_type": "code",
   "execution_count": null,
   "metadata": {},
   "outputs": [],
   "source": [
    "data, samplerate = soundfile.read(f\"Pi4sweepTest_{now}_trimmed.wav\")\n",
    "#data, samplerate = soundfile.read(\"sweepTest_20210319_154909_trimmed.wav\")"
   ]
  },
  {
   "cell_type": "code",
   "execution_count": null,
   "metadata": {},
   "outputs": [],
   "source": [
    "# Play recorded audio\n",
    "ipd.Audio(f\"Pi4sweepTest_{now}_trimmed.wav\") # load recent local sweep test file\n",
    "#ipd.Audio(\"Pi4sweepTest_20210401_095953_trimmed.wav\")"
   ]
  },
  {
   "cell_type": "code",
   "execution_count": null,
   "metadata": {},
   "outputs": [],
   "source": [
    "#recordTime = 15\n",
    "#samplerate = 96000\n",
    "\n",
    "# Get x co-ordinates\n",
    "time=np.arange(0, runTime, 1/samplerate)\n",
    "\n",
    "# Get y co-ordinates\n",
    "dataL = data[:,0]\n",
    "dataR = data[:,1]\n",
    "\n",
    "# Set up figures\n",
    "plot1 = figure(\n",
    "    sizing_mode=\"stretch_width\",\n",
    "    title = \"Frequency Sweep Test Stereo WAV\", \n",
    "    x_axis_label = 'Time (s)', \n",
    "    y_axis_label = 'Normalised Voltage',\n",
    "    tools = 'xwheel_zoom,xpan,box_zoom,xwheel_pan,save,reset,hover'\n",
    "    )\n",
    "\n",
    "# Add a line renderer with legend and line thickness\n",
    "plot1.line(time, dataL, legend_label=\"Left Channel Data\", line_width=1, line_color=\"blue\")\n",
    "plot1.line(time, dataR, legend_label=\"Right Channel Data\", line_width=1, line_color=\"red\")\n",
    "\n",
    "# Makes legends toggleable\n",
    "plot1.legend.click_policy=\"hide\"\n",
    "\n",
    "# show the results\n",
    "output_notebook()\n",
    "show(plot1)"
   ]
  },
  {
   "cell_type": "code",
   "execution_count": null,
   "metadata": {},
   "outputs": [],
   "source": [
    "samples = data.shape[0]\n",
    "datafftL = fft(dataL)\n",
    "datafftR = fft(dataR)\n",
    "fftabsL = abs(datafftL[1:len(dataL)//2])\n",
    "fftabsR = abs(datafftR[1:len(dataR)//2])\n",
    "freqs = fftfreq(samples,1/(samplerate/2))\n",
    "\n",
    "# Create a new plot\n",
    "plot1 = figure(\n",
    "    sizing_mode=\"stretch_width\",\n",
    "    title = \"Frequency Sweep Test FFT\", \n",
    "    x_axis_type=\"log\",\n",
    "    y_axis_type=\"linear\",\n",
    "    x_axis_label = 'Frequency (Hz)', \n",
    "    #y_axis_label = 'Normalised Voltage',\n",
    "    tools = 'xwheel_zoom,xpan,box_zoom,xwheel_pan,save,reset,hover'\n",
    "    )\n",
    "\n",
    "# Add a line renderer with legend and line thickness\n",
    "plot1.line(freqs[:int(freqs.size/2)], fftabsL, legend_label=\"Left Channel Data FFT\", line_width=1, line_color=\"blue\")\n",
    "plot1.line(freqs[:int(freqs.size/2)], fftabsR, legend_label=\"Right Channel Data FFT\", line_width=1, line_color=\"red\")\n",
    "\n",
    "plot1.legend.click_policy=\"hide\"\n",
    "\n",
    "# show the results\n",
    "output_notebook()\n",
    "show(plot1)"
   ]
  },
  {
   "cell_type": "code",
   "execution_count": null,
   "metadata": {
    "jupyter": {
     "source_hidden": true
    }
   },
   "outputs": [],
   "source": [
    "#recordTime=15\n",
    "\n",
    "plt.plot(data[:recordTime*samplerate]) # Plotting stereo audio .wav file\n",
    "plt.title(\"Sweep Test plot (Stereo)\")"
   ]
  },
  {
   "cell_type": "code",
   "execution_count": null,
   "metadata": {
    "jupyter": {
     "source_hidden": true
    }
   },
   "outputs": [],
   "source": [
    "samples = data.shape[0]\n",
    "data = data[:,0]\n",
    "\n",
    "plt.plot(data[:recordTime*samplerate]) # Plotting mono audio .wav file\n",
    "plt.title(\"Sweep Test plot (Mono)\")"
   ]
  },
  {
   "cell_type": "code",
   "execution_count": null,
   "metadata": {},
   "outputs": [],
   "source": [
    "datafft = fft(data)\n",
    "fftabs = abs(datafft)\n",
    "freqs = fftfreq(samples,1/samplerate)\n",
    "\n",
    "plt.xlim([10, samplerate/2])\n",
    "plt.xscale( 'log' )\n",
    "plt.grid( True )\n",
    "plt.xlabel( 'Frequency (Hz)' )\n",
    "plt.plot(freqs[:int(freqs.size/2)],fftabs[:int(freqs.size/2)]) # Plotting FFT output of mono wav file\n",
    "plt.title(\"Sweep Test FFT Output plot (Mono)\")"
   ]
  },
  {
   "cell_type": "markdown",
   "metadata": {},
   "source": [
    "### Sine Sweep Burst Test"
   ]
  },
  {
   "cell_type": "code",
   "execution_count": null,
   "metadata": {},
   "outputs": [],
   "source": [
    "# Running Sine Wave Test & recording audio from RPI\n",
    "\n",
    "frequency=500\n",
    "amplitude=0.03 # Vrms\n",
    "offset=0\n",
    "step=125\n",
    "runTime=8\n",
    "sleepTime=2\n",
    "recordTime=12\n",
    "\n",
    "now = datetime.datetime.now().strftime(\"%Y%m%d_%H%M%S\")\n",
    "\n",
    "st.sineSweepBurstTest(frequency,amplitude,offset,step,recordTime,runTime,sleepTime)"
   ]
  },
  {
   "cell_type": "code",
   "execution_count": null,
   "metadata": {},
   "outputs": [],
   "source": [
    "# Trimming the empty buffer time of wav file\n",
    "audio_input = ffmpeg.input(f'Pi4sineSweepBurstTest_{now}.wav')\n",
    "#audio_input = ffmpeg.input('sineTest_20210312_134022.wav')\n",
    "audio_cut = audio_input.audio.filter('atrim', start=2.5, end=12)\n",
    "audio_output = ffmpeg.output(audio_cut, f'Pi4sineSweepBurstTest_{now}_trimmed.wav')\n",
    "#audio_output = ffmpeg.output(audio_cut, 'sineTest_20210312_134022_trimmed.wav')\n",
    "ffmpeg.run(audio_output)"
   ]
  },
  {
   "cell_type": "code",
   "execution_count": null,
   "metadata": {},
   "outputs": [],
   "source": [
    "# Play recorded audio\n",
    "ipd.Audio(f\"Pi4sineSweepBurstTest_{now}_trimmed.wav\") # load recent local sine test file\n",
    "#ipd.Audio(\"Pi4sineTest_20210401_101202_trimmed.wav\")"
   ]
  },
  {
   "cell_type": "markdown",
   "metadata": {},
   "source": [
    "### Sine Wave Test"
   ]
  },
  {
   "cell_type": "code",
   "execution_count": null,
   "metadata": {},
   "outputs": [],
   "source": [
    "# Running Sine Wave Test & recording audio from RPI Zero W \n",
    "\n",
    "frequency=2000\n",
    "amplitude=0.03 # Vrms\n",
    "offset=0\n",
    "runTime=10\n",
    "sleepTime=2\n",
    "recordTime=15\n",
    "\n",
    "now = datetime.datetime.now().strftime(\"%Y%m%d_%H%M%S\")\n",
    "\n",
    "st.sineTest(frequency,amplitude,offset,recordTime,runTime,sleepTime)"
   ]
  },
  {
   "cell_type": "code",
   "execution_count": null,
   "metadata": {},
   "outputs": [],
   "source": [
    "# Trimming the empty buffer time of wav file\n",
    "audio_input = ffmpeg.input(f'Pi4sineTest_{now}.wav')\n",
    "#audio_input = ffmpeg.input('sineTest_20210312_134022.wav')\n",
    "audio_cut = audio_input.audio.filter('atrim', start=7, end=9)\n",
    "audio_output = ffmpeg.output(audio_cut, f'Pi4sineTest_{now}_trimmed.wav')\n",
    "#audio_output = ffmpeg.output(audio_cut, 'sineTest_20210312_134022_trimmed.wav')\n",
    "ffmpeg.run(audio_output)"
   ]
  },
  {
   "cell_type": "code",
   "execution_count": null,
   "metadata": {},
   "outputs": [],
   "source": [
    "#data, samplerate = soundfile.read(f\"Pi4sineTest_{now}_trimmed.wav\")\n",
    "data, samplerate = soundfile.read(\"sineTest_20210319_155301_trimmed.wav\")"
   ]
  },
  {
   "cell_type": "code",
   "execution_count": null,
   "metadata": {},
   "outputs": [],
   "source": [
    "# Play recorded audio\n",
    "#ipd.Audio(f\"Pi4sineTest_{now}_trimmed.wav\") # load recent local sine test file\n",
    "ipd.Audio(\"Pi4sineTest_20210401_101202_trimmed.wav\")"
   ]
  },
  {
   "cell_type": "code",
   "execution_count": null,
   "metadata": {},
   "outputs": [],
   "source": [
    "recordTime = 15\n",
    "samplerate = 48000\n",
    "runTime = 10\n",
    "time=np.arange(0, runTime, 1/samplerate)\n",
    "\n",
    "dataL = data[:,0]\n",
    "dataR = data[:,1]\n",
    "\n",
    "# Set up figures\n",
    "plot1 = figure(\n",
    "    sizing_mode=\"stretch_width\",\n",
    "    title = \"Sine Wave Test Stereo WAV\", \n",
    "    x_axis_label = 'Time (s)', \n",
    "    y_axis_label = 'Normalised Voltage',\n",
    "    tools = 'xwheel_zoom,xpan,box_zoom,xwheel_pan,save,reset,hover'\n",
    "    )\n",
    "\n",
    "# Add a line renderer with legend and line thickness\n",
    "plot1.line(time, dataL, legend_label=\"Left Channel Data\", line_width=1, line_color=\"blue\")\n",
    "plot1.line(time, dataR, legend_label=\"Right Channel Data\", line_width=1, line_color=\"red\")\n",
    "\n",
    "# Makes legends toggleable\n",
    "plot1.legend.click_policy=\"hide\"\n",
    "\n",
    "# show the results\n",
    "output_notebook()\n",
    "show(plot1)"
   ]
  },
  {
   "cell_type": "code",
   "execution_count": null,
   "metadata": {},
   "outputs": [],
   "source": [
    "samples = data.shape[0]\n",
    "datafftL = fft(dataL)\n",
    "datafftR = fft(dataR)\n",
    "fftabsL = abs(datafftL[1:len(dataL)//2])\n",
    "fftabsR = abs(datafftR[1:len(dataR)//2])\n",
    "freqs = fftfreq(samples,1/(samplerate/2))\n",
    "\n",
    "\n",
    "# Set up figures\n",
    "plot1 = figure(\n",
    "    sizing_mode=\"stretch_width\",\n",
    "    title = \"Sine Wave Test FFT\", \n",
    "    x_axis_type=\"log\",\n",
    "    y_axis_type=\"linear\",\n",
    "    x_axis_label = 'Frequency (Hz)', \n",
    "    y_axis_label = 'Normalised Voltage',\n",
    "    tools = 'xwheel_zoom,xpan,box_zoom,xwheel_pan,save,reset,hover'\n",
    "    )\n",
    "\n",
    "# Add a line renderer with legend and line thickness\n",
    "plot1.line(freqs[:int(freqs.size/2)], fftabsL, legend_label=\"Left Channel Data FFT\", line_width=1, line_color=\"blue\")\n",
    "plot1.line(freqs[:int(freqs.size/2)], fftabsR, legend_label=\"Right Channel Data FFT\", line_width=1, line_color=\"red\")\n",
    "\n",
    "plot1.legend.click_policy=\"hide\"\n",
    "\n",
    "# show the results\n",
    "output_notebook()\n",
    "show(plot1)"
   ]
  },
  {
   "cell_type": "code",
   "execution_count": null,
   "metadata": {
    "jupyter": {
     "source_hidden": true
    }
   },
   "outputs": [],
   "source": [
    "recordTime=15\n",
    "frequency=2000\n",
    "\n",
    "plt.plot(data[:recordTime*samplerate]) # Plotting stereo audio\n",
    "plt.title(f\"Sine Wave Test plot at {frequency} Hz (Stereo)\")"
   ]
  },
  {
   "cell_type": "code",
   "execution_count": null,
   "metadata": {
    "jupyter": {
     "source_hidden": true
    }
   },
   "outputs": [],
   "source": [
    "samples = data.shape[0]\n",
    "data = data[:,0]\n",
    "\n",
    "plt.plot(data[:recordTime*samplerate]) # Plotting mono audio\n",
    "plt.title(f\"Sine Wave Test plot at {frequency} Hz (Mono)\")"
   ]
  },
  {
   "cell_type": "code",
   "execution_count": null,
   "metadata": {
    "jupyter": {
     "source_hidden": true
    }
   },
   "outputs": [],
   "source": [
    "datafft = fft(data)\n",
    "fftabs = abs(datafft)\n",
    "freqs = fftfreq(samples,1/samplerate)\n",
    "plt.xlim([10, samplerate/2])\n",
    "plt.xscale( 'log' )\n",
    "plt.grid( True )\n",
    "plt.xlabel( 'Frequency (Hz)' )\n",
    "plt.plot(freqs[:int(freqs.size/2)],fftabs[:int(freqs.size/2)])\n",
    "plt.title(f\"Sine Wave Test FFT Output plot at {frequency} Hz\")"
   ]
  },
  {
   "cell_type": "markdown",
   "metadata": {},
   "source": [
    "### White Noise Test"
   ]
  },
  {
   "cell_type": "code",
   "execution_count": null,
   "metadata": {},
   "outputs": [],
   "source": [
    "# Running White Noise Test & recording audio from RPI Zero W\n",
    "\n",
    "bandwidth=10000\n",
    "amplitude=0.01 # Vrms\n",
    "runTime=10\n",
    "sleepTime=2\n",
    "recordTime=15\n",
    "\n",
    "now = datetime.datetime.now().strftime(\"%Y%m%d_%H%M%S\")\n",
    "\n",
    "st.whiteNoiseTest(bandwidth,amplitude,recordTime,runTime,sleepTime)"
   ]
  },
  {
   "cell_type": "code",
   "execution_count": null,
   "metadata": {},
   "outputs": [],
   "source": [
    "# Trimming the empty buffer time of wav file\n",
    "audio_input = ffmpeg.input(f'Pi4whiteNoiseTest_{now}.wav')\n",
    "#audio_input = ffmpeg.input('whiteNoiseTest_20210312_134138.wav')\n",
    "audio_cut = audio_input.audio.filter('atrim', start=7, end=9)\n",
    "audio_output = ffmpeg.output(audio_cut, f'Pi4whiteNoiseTest_{now}_trimmed.wav')\n",
    "#audio_output = ffmpeg.output(audio_cut, 'whiteNoiseTest_20210312_134138_trimmed.wav')\n",
    "ffmpeg.run(audio_output)"
   ]
  },
  {
   "cell_type": "code",
   "execution_count": null,
   "metadata": {},
   "outputs": [],
   "source": [
    "data, samplerate = soundfile.read(f\"Pi4whiteNoiseTest_{now}_trimmed.wav\")\n",
    "#data, samplerate = soundfile.read(\"Pi4whiteNoiseTest_20210401_102113_trimmed.wav\")"
   ]
  },
  {
   "cell_type": "code",
   "execution_count": null,
   "metadata": {},
   "outputs": [],
   "source": [
    "# Play recorded audio\n",
    "ipd.Audio(f\"Pi4whiteNoiseTest_{now}_trimmed.wav\") # load recent local sine test file\n",
    "#ipd.Audio(\"Pi4whiteNoiseTest_20210401_102113_trimmed.wav\")"
   ]
  },
  {
   "cell_type": "code",
   "execution_count": null,
   "metadata": {},
   "outputs": [],
   "source": [
    "#recordTime = 15\n",
    "#samplerate = 48000\n",
    "time=np.arange(0, runTime, 1/samplerate)\n",
    "\n",
    "dataL = data[:,0]\n",
    "dataR = data[:,1]\n",
    "\n",
    "# Set up figures\n",
    "plot1 = figure(\n",
    "    sizing_mode=\"stretch_width\",\n",
    "    title = \"White Noise Test Stereo WAV\", \n",
    "    x_axis_label = 'Time (s)', \n",
    "    y_axis_label = 'Normalised Voltage',\n",
    "    tools = 'xwheel_zoom,xpan,box_zoom,xwheel_pan,save,reset,hover'\n",
    "    )\n",
    "\n",
    "# Add a line renderer with legend and line thickness\n",
    "plot1.line(time, dataL, legend_label=\"Left Channel Data\", line_width=1, line_color=\"blue\")\n",
    "plot1.line(time, dataR, legend_label=\"Right Channel Data\", line_width=1, line_color=\"red\")\n",
    "\n",
    "# Makes legends toggleable\n",
    "plot1.legend.click_policy=\"hide\"\n",
    "\n",
    "# show the results\n",
    "output_notebook()\n",
    "show(plot1)"
   ]
  },
  {
   "cell_type": "code",
   "execution_count": null,
   "metadata": {},
   "outputs": [],
   "source": [
    "samples = data.shape[0]\n",
    "datafftL = fft(dataL)\n",
    "datafftR = fft(dataR)\n",
    "fftabsL = abs(datafftL[1:len(dataL)//2])\n",
    "fftabsR = abs(datafftR[1:len(dataR)//2])\n",
    "freqs = fftfreq(samples,1/(samplerate/2))\n",
    "\n",
    "\n",
    "# Set up figures\n",
    "plot1 = figure(\n",
    "    sizing_mode=\"stretch_width\",\n",
    "    title = \"White Noise Test FFT\", \n",
    "    x_axis_type=\"linear\",\n",
    "    y_axis_type=\"log\",\n",
    "    x_axis_label = 'Frequency (Hz)', \n",
    "    y_axis_label = 'Normalised Voltage',\n",
    "    tools = 'xwheel_zoom,xpan,box_zoom,xwheel_pan,save,reset,hover'\n",
    "    )\n",
    "\n",
    "# Add a line renderer with legend and line thickness\n",
    "plot1.line(freqs[:int(freqs.size/2)], fftabsL, legend_label=\"Left Channel Data FFT\", line_width=1, line_color=\"blue\")\n",
    "plot1.line(freqs[:int(freqs.size/2)], fftabsR, legend_label=\"Right Channel Data FFT\", line_width=1, line_color=\"red\")\n",
    "\n",
    "plot1.legend.click_policy=\"hide\"\n",
    "\n",
    "# show the results\n",
    "output_notebook()\n",
    "show(plot1)"
   ]
  },
  {
   "cell_type": "code",
   "execution_count": null,
   "metadata": {
    "jupyter": {
     "source_hidden": true
    }
   },
   "outputs": [],
   "source": [
    "plt.plot(data[:recordTime*samplerate]) # Plotting stereo audio\n",
    "plt.title(\"White Noise Test plot (Stereo)\")"
   ]
  },
  {
   "cell_type": "code",
   "execution_count": null,
   "metadata": {
    "jupyter": {
     "source_hidden": true
    }
   },
   "outputs": [],
   "source": [
    "samples = data.shape[0]\n",
    "data = data[:,0]\n",
    "\n",
    "plt.plot(data[:recordTime*samplerate]) # Plotting mono audio\n",
    "plt.title(\"White Noise Test plot (Mono)\")"
   ]
  },
  {
   "cell_type": "code",
   "execution_count": null,
   "metadata": {
    "jupyter": {
     "source_hidden": true
    }
   },
   "outputs": [],
   "source": [
    "datafft = fft(data)\n",
    "fftabs = abs(datafft)\n",
    "freqs = fftfreq(samples,1/samplerate)\n",
    "plt.xlim([10, samplerate/2])\n",
    "plt.xscale( 'log' )\n",
    "plt.grid( True )\n",
    "plt.xlabel( 'Frequency (Hz)' )\n",
    "plt.plot(freqs[:int(freqs.size/2)],fftabs[:int(freqs.size/2)])\n",
    "plt.title(\"White Noise Test FFT Output plot\")"
   ]
  },
  {
   "cell_type": "markdown",
   "metadata": {},
   "source": [
    "### Burst Test"
   ]
  },
  {
   "cell_type": "code",
   "execution_count": null,
   "metadata": {},
   "outputs": [],
   "source": [
    "# Running Burst Test & recording audio from RPI Zero W\n",
    "\n",
    "frequency=2000\n",
    "ncycles=5\n",
    "interval=1\n",
    "runTime=10\n",
    "\n",
    "now = datetime.datetime.now().strftime(\"%Y%m%d_%H%M%S\")\n",
    "\n",
    "st.burstTest(frequency,ncycles,interval)"
   ]
  },
  {
   "cell_type": "code",
   "execution_count": null,
   "metadata": {},
   "outputs": [],
   "source": [
    "# Trimming the empty buffer time of wav file\n",
    "#audio_input = ffmpeg.input(f'sineTest_{now}.wav')\n",
    "audio_input = ffmpeg.input('burstTest_20210312_134736.wav')\n",
    "audio_cut = audio_input.audio.filter('atrim', start=7, end=9)\n",
    "#audio_output = ffmpeg.output(audio_cut, 'sineTest_{now}_trimmed.wav')\n",
    "audio_output = ffmpeg.output(audio_cut, 'burstTest_20210312_134736_trimmed.wav')\n",
    "ffmpeg.run(audio_output)"
   ]
  },
  {
   "cell_type": "code",
   "execution_count": null,
   "metadata": {},
   "outputs": [],
   "source": [
    "# Loading in selected wav file data\n",
    "\n",
    "# data, samplerate = soundfile.read(f\"burstTest_{now}_trimmed.wav\")\n",
    "data, samplerate = soundfile.read(\"burstTest_20210312_134736_trimmed.wav\")"
   ]
  },
  {
   "cell_type": "code",
   "execution_count": null,
   "metadata": {},
   "outputs": [],
   "source": [
    "# Play recorded audio\n",
    "ipd.Audio(f\"burstTest_{now}_trimmed.wav\") # load recent local sine test file"
   ]
  },
  {
   "cell_type": "code",
   "execution_count": null,
   "metadata": {},
   "outputs": [],
   "source": [
    "#recordTime = 15\n",
    "#samplerate = 48000\n",
    "time=np.arange(0, runTime, 1/samplerate)\n",
    "\n",
    "dataL = data[:,0]\n",
    "dataR = data[:,1]\n",
    "\n",
    "\n",
    "TOOLTIPS = [\n",
    "    (\"x\", \"$x\"),\n",
    "    (\"y\", \"$y\"),\n",
    "]\n",
    "\n",
    "# Create a new plot with title and axes labels\n",
    "p = figure(title=\"Burst Test Stereo WAV\", sizing_mode=\"stretch_width\", tools='hover', tooltips=TOOLTIPS)\n",
    "\n",
    "\n",
    "# change just some things about the x-axis\n",
    "p.xaxis.axis_label = \"Time (seconds)\"\n",
    "#p.xaxis.axis_label_text_color = \"\"\n",
    "p.xaxis.axis_line_width = 3\n",
    "p.xaxis.axis_line_color = \"black\"\n",
    "\n",
    "# change just some things about the y-axis\n",
    "p.yaxis.axis_label = \"Normalised Min/Max Driver Voltage\"\n",
    "p.yaxis.major_label_text_color = \"black\"\n",
    "p.yaxis.major_label_orientation = \"vertical\"\n",
    "\n",
    "# Add a line renderer with legend and line thickness\n",
    "p.line(time, dataL, legend_label=\"Left Channel Data\", line_width=1, line_color=\"blue\")\n",
    "p.line(time, dataR, legend_label=\"Right Channel Data\", line_width=1, line_color=\"red\")\n",
    "\n",
    "# Makes legends toggleable\n",
    "p.legend.click_policy=\"hide\"\n",
    "\n",
    "# show the results\n",
    "bop.output_notebook()\n",
    "bop.show(p)"
   ]
  },
  {
   "cell_type": "code",
   "execution_count": null,
   "metadata": {},
   "outputs": [],
   "source": [
    "samples = data.shape[0]\n",
    "datafftL = fft(dataL)\n",
    "datafftR = fft(dataR)\n",
    "fftabsL = abs(datafftL[1:len(dataL)//2])\n",
    "fftabsR = abs(datafftR[1:len(dataR)//2])\n",
    "freqs = fftfreq(samples,1/(samplerate/2))\n",
    "\n",
    "\n",
    "\n",
    "TOOLTIPS = [\n",
    "    (\"x\", \"$x\"),\n",
    "    (\"y\", \"$y\"),\n",
    "]\n",
    "\n",
    "# Create a new plot with title and axes labels\n",
    "p = figure(title=\"Burst Test FFT\", x_axis_type=\"log\", x_range=(10,2*10**4), sizing_mode=\"stretch_width\", tools='hover', tooltips=TOOLTIPS)\n",
    "\n",
    "# change just some things about the x-axis\n",
    "p.xaxis.axis_label = \"Frequency (Hz)\"\n",
    "#p.xaxis.axis_label_text_color = \"\"\n",
    "p.xaxis.axis_line_width = 3\n",
    "p.xaxis.axis_line_color = \"black\"\n",
    "\n",
    "# change just some things about the y-axis\n",
    "p.yaxis.axis_label = \"FFT Magnitude\"\n",
    "p.yaxis.major_label_text_color = \"black\"\n",
    "p.yaxis.major_label_orientation = \"vertical\"\n",
    "\n",
    "# Add a line renderer with legend and line thickness\n",
    "p.line(freqs[:int(freqs.size/2)], fftabsL, legend_label=\"Left Channel Data FFT\", line_width=1, line_color=\"blue\")\n",
    "p.line(freqs[:int(freqs.size/2)], fftabsR, legend_label=\"Right Channel Data FFT\", line_width=1, line_color=\"red\")\n",
    "\n",
    "p.legend.click_policy=\"hide\"\n",
    "\n",
    "# show the results\n",
    "bop.output_notebook()\n",
    "bop.show(p)"
   ]
  },
  {
   "cell_type": "code",
   "execution_count": null,
   "metadata": {
    "jupyter": {
     "source_hidden": true
    }
   },
   "outputs": [],
   "source": [
    "# data, samplerate = soundfile.read(f\"burstTest_{now}.wav\")\n",
    "data, samplerate = soundfile.read(\"burstTest_20210312_134736.wav\")\n",
    "\n",
    "recordTime=15\n",
    "samplerate=48000\n",
    "\n",
    "plt.plot(data[:recordTime*samplerate]) # Plotting stereo audio\n",
    "plt.title(\"Burst Test plot (Stereo)\")"
   ]
  },
  {
   "cell_type": "code",
   "execution_count": null,
   "metadata": {
    "jupyter": {
     "source_hidden": true
    }
   },
   "outputs": [],
   "source": [
    "samples = data.shape[0]\n",
    "data = data[:,0]\n",
    "\n",
    "plt.plot(data[:recordTime*samplerate]) # Plotting mono audio\n",
    "plt.title(\"Burst Test plot (Mono)\")"
   ]
  },
  {
   "cell_type": "code",
   "execution_count": null,
   "metadata": {
    "jupyter": {
     "source_hidden": true
    }
   },
   "outputs": [],
   "source": [
    "datafft = fft(data)\n",
    "fftabs = abs(datafft)\n",
    "freqs = fftfreq(samples,1/samplerate)\n",
    "plt.xlim([10, samplerate/2])\n",
    "plt.xscale( 'log' )\n",
    "plt.grid( True )\n",
    "plt.xlabel( 'Frequency (Hz)' )\n",
    "plt.plot(freqs[:int(freqs.size/2)],fftabs[:int(freqs.size/2)])\n",
    "plt.title(\"Burst Test FFT Output plot\")"
   ]
  },
  {
   "cell_type": "markdown",
   "metadata": {},
   "source": [
    "### Ambient Noise Test"
   ]
  },
  {
   "cell_type": "code",
   "execution_count": null,
   "metadata": {},
   "outputs": [],
   "source": [
    "# Running Ambient Noise Test & recording audio from RPI Zero W\n",
    "\n",
    "now = datetime.datetime.now().strftime(\"%Y%m%d_%H%M%S\")\n",
    "\n",
    "runTime = 5\n",
    "\n",
    "st.ambientTest()"
   ]
  },
  {
   "cell_type": "code",
   "execution_count": null,
   "metadata": {},
   "outputs": [],
   "source": [
    "data, samplerate = soundfile.read(f\"Pi4ambientTest_{now}.wav\")\n",
    "#data, samplerate = soundfile.read(\"ambientTest_20210319_164908.wav\")"
   ]
  },
  {
   "cell_type": "code",
   "execution_count": null,
   "metadata": {},
   "outputs": [],
   "source": [
    "# Play recorded audio\n",
    "#ipd.Audio(f\"Pi4ambientTest_{now}.wav\") # load recent local sine test file\n",
    "ipd.Audio(\"ambientTest_20210319_164908.wav\")"
   ]
  },
  {
   "cell_type": "code",
   "execution_count": null,
   "metadata": {},
   "outputs": [],
   "source": [
    "recordTime = 15\n",
    "samplerate = 48000\n",
    "time=np.arange(0, 15, 1/samplerate)\n",
    "\n",
    "dataL = data[:,0]\n",
    "dataR = data[:,1]\n",
    "\n",
    "# Set up figures\n",
    "plot1 = figure(\n",
    "    sizing_mode=\"stretch_width\",\n",
    "    title = \"Ambient Noise Test Stereo WAV\", \n",
    "    x_axis_label = 'Time (s)', \n",
    "    y_axis_label = 'Normalised Voltage',\n",
    "    tools = 'xwheel_zoom,xpan,box_zoom,xwheel_pan,save,reset,hover'\n",
    "    )\n",
    "\n",
    "# Add a line renderer with legend and line thickness\n",
    "plot1.line(time, dataL, legend_label=\"Left Channel Data\", line_width=1, line_color=\"blue\")\n",
    "plot1.line(time, dataR, legend_label=\"Right Channel Data\", line_width=1, line_color=\"red\")\n",
    "\n",
    "# Makes legends toggleable\n",
    "plot1.legend.click_policy=\"hide\"\n",
    "\n",
    "# show the results\n",
    "output_notebook()\n",
    "show(plot1)"
   ]
  },
  {
   "cell_type": "code",
   "execution_count": null,
   "metadata": {},
   "outputs": [],
   "source": [
    "samples = data.shape[0]\n",
    "datafftL = fft(dataL)\n",
    "datafftR = fft(dataR)\n",
    "fftabsL = abs(datafftL[1:len(dataL)//2])\n",
    "fftabsR = abs(datafftR[1:len(dataR)//2])\n",
    "freqs = fftfreq(samples,1/(samplerate/2))\n",
    "\n",
    "# Set up figures\n",
    "plot1 = figure(\n",
    "    sizing_mode=\"stretch_width\",\n",
    "    title = \"Ambient Noise Test FFT\", \n",
    "    x_axis_type=\"linear\",\n",
    "    y_axis_type=\"log\",\n",
    "    #x_range=(10,2*10**4),\n",
    "    x_axis_label = 'Frequency (Hz)', \n",
    "    y_axis_label = 'Normalised Voltage',\n",
    "    tools = 'xwheel_zoom,xpan,box_zoom,xwheel_pan,save,reset,hover'\n",
    "    )\n",
    "\n",
    "# Add a line renderer with legend and line thickness\n",
    "plot1.line(freqs[1:int(freqs.size/2)], fftabsL, legend_label=\"Left Channel Data FFT\", line_width=1, line_color=\"blue\")\n",
    "plot1.line(freqs[1:int(freqs.size/2)], fftabsR, legend_label=\"Right Channel Data FFT\", line_width=1, line_color=\"red\")\n",
    "\n",
    "plot1.legend.click_policy=\"hide\"\n",
    "\n",
    "# show the results\n",
    "output_notebook()\n",
    "show(plot1)"
   ]
  },
  {
   "cell_type": "markdown",
   "metadata": {},
   "source": [
    "###  <b> RPi Zero W recording </b>"
   ]
  },
  {
   "cell_type": "code",
   "execution_count": null,
   "metadata": {},
   "outputs": [],
   "source": [
    "data, samplerate = soundfile.read(\"2kHz5sStereo.wav\")"
   ]
  },
  {
   "cell_type": "code",
   "execution_count": null,
   "metadata": {},
   "outputs": [],
   "source": [
    "ipd.Audio(\"2kHz5sStereo.wav\")"
   ]
  },
  {
   "cell_type": "code",
   "execution_count": null,
   "metadata": {},
   "outputs": [],
   "source": [
    "time=np.arange(0, 15, 1/samplerate)\n",
    "\n",
    "dataL = data[:,0]\n",
    "dataR = data[:,1]\n",
    "\n",
    "# Set up figures\n",
    "plot1 = figure(\n",
    "    sizing_mode=\"stretch_width\",\n",
    "    title = \"Old_Board WAV\", \n",
    "    x_axis_label = 'Time (s)', \n",
    "    y_axis_label = 'Normalised Voltage',\n",
    "    tools = 'xwheel_zoom,xpan,box_zoom,xwheel_pan,save,reset,hover'\n",
    "    )\n",
    "\n",
    "# Add a line renderer with legend and line thickness\n",
    "plot1.line(time, dataL, legend_label=\"Left Channel Data\", line_width=1, line_color=\"blue\")\n",
    "plot1.line(time, dataR, legend_label=\"Right Channel Data\", line_width=1, line_color=\"red\")\n",
    "\n",
    "# Makes legends toggleable\n",
    "plot1.legend.click_policy=\"hide\"\n",
    "\n",
    "# show the results\n",
    "output_notebook()\n",
    "show(plot1)"
   ]
  },
  {
   "cell_type": "code",
   "execution_count": null,
   "metadata": {},
   "outputs": [],
   "source": [
    "samples = data.shape[0]\n",
    "datafftL = fft(dataL)\n",
    "datafftR = fft(dataR)\n",
    "fftabsL = abs(datafftL[1:len(dataL)//2])\n",
    "fftabsR = abs(datafftR[1:len(dataR)//2])\n",
    "freqs = fftfreq(samples,1/(samplerate/2))\n",
    "\n",
    "# Set up figures\n",
    "plot1 = figure(\n",
    "    sizing_mode=\"stretch_width\",\n",
    "    title = \"Old Board FFT\", \n",
    "    x_axis_type=\"linear\",\n",
    "    y_axis_type=\"log\",\n",
    "    #x_range=(10,2*10**4),\n",
    "    x_axis_label = 'Frequency (Hz)', \n",
    "    y_axis_label = 'Normalised Voltage',\n",
    "    tools = 'xwheel_zoom,xpan,box_zoom,xwheel_pan,save,reset,hover'\n",
    "    )\n",
    "\n",
    "# Add a line renderer with legend and line thickness\n",
    "plot1.line(freqs[1:int(freqs.size/2)], fftabsL, legend_label=\"Left Channel Data FFT\", line_width=1, line_color=\"blue\")\n",
    "plot1.line(freqs[1:int(freqs.size/2)], fftabsR, legend_label=\"Right Channel Data FFT\", line_width=1, line_color=\"red\")\n",
    "\n",
    "plot1.legend.click_policy=\"hide\"\n",
    "\n",
    "# show the results\n",
    "output_notebook()\n",
    "show(plot1)"
   ]
  },
  {
   "cell_type": "code",
   "execution_count": null,
   "metadata": {},
   "outputs": [],
   "source": []
  }
 ],
 "metadata": {
  "kernelspec": {
   "display_name": "Python 3",
   "language": "python",
   "name": "python3"
  },
  "language_info": {
   "codemirror_mode": {
    "name": "ipython",
    "version": 3
   },
   "file_extension": ".py",
   "mimetype": "text/x-python",
   "name": "python",
   "nbconvert_exporter": "python",
   "pygments_lexer": "ipython3",
   "version": "3.7.9"
  }
 },
 "nbformat": 4,
 "nbformat_minor": 4
}
